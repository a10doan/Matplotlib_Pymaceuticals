{
 "cells": [
  {
   "cell_type": "code",
   "execution_count": 2,
   "metadata": {
    "collapsed": true
   },
   "outputs": [],
   "source": [
    "import numpy as np\n",
    "import os\n",
    "import pandas as pd\n",
    "import matplotlib.pyplot as plt\n",
    "import seaborn as sns\n",
    "#pd.set_option('display.height', 500)\n",
    "pd.set_option('display.max_rows', 500)"
   ]
  },
  {
   "cell_type": "code",
   "execution_count": 3,
   "metadata": {
    "collapsed": true
   },
   "outputs": [],
   "source": [
    "clinical_csvpath = os.path.join('raw_data', 'clinicaltrial_data.csv')\n",
    "mouse_csvpath = os.path.join('raw_data', 'mouse_drug_data.csv')\n",
    "clinical_data = pd.read_csv(clinical_csvpath)\n",
    "mouse_data = pd.read_csv(mouse_csvpath)\n",
    "#clinical_data.head()"
   ]
  },
  {
   "cell_type": "code",
   "execution_count": 4,
   "metadata": {},
   "outputs": [
    {
     "data": {
      "text/html": [
       "<div>\n",
       "<style>\n",
       "    .dataframe thead tr:only-child th {\n",
       "        text-align: right;\n",
       "    }\n",
       "\n",
       "    .dataframe thead th {\n",
       "        text-align: left;\n",
       "    }\n",
       "\n",
       "    .dataframe tbody tr th {\n",
       "        vertical-align: top;\n",
       "    }\n",
       "</style>\n",
       "<table border=\"1\" class=\"dataframe\">\n",
       "  <thead>\n",
       "    <tr style=\"text-align: right;\">\n",
       "      <th></th>\n",
       "      <th>Mouse ID</th>\n",
       "      <th>Drug</th>\n",
       "    </tr>\n",
       "  </thead>\n",
       "  <tbody>\n",
       "    <tr>\n",
       "      <th>0</th>\n",
       "      <td>f234</td>\n",
       "      <td>Stelasyn</td>\n",
       "    </tr>\n",
       "    <tr>\n",
       "      <th>1</th>\n",
       "      <td>x402</td>\n",
       "      <td>Stelasyn</td>\n",
       "    </tr>\n",
       "    <tr>\n",
       "      <th>2</th>\n",
       "      <td>a492</td>\n",
       "      <td>Stelasyn</td>\n",
       "    </tr>\n",
       "    <tr>\n",
       "      <th>3</th>\n",
       "      <td>w540</td>\n",
       "      <td>Stelasyn</td>\n",
       "    </tr>\n",
       "    <tr>\n",
       "      <th>4</th>\n",
       "      <td>v764</td>\n",
       "      <td>Stelasyn</td>\n",
       "    </tr>\n",
       "  </tbody>\n",
       "</table>\n",
       "</div>"
      ],
      "text/plain": [
       "  Mouse ID      Drug\n",
       "0     f234  Stelasyn\n",
       "1     x402  Stelasyn\n",
       "2     a492  Stelasyn\n",
       "3     w540  Stelasyn\n",
       "4     v764  Stelasyn"
      ]
     },
     "execution_count": 4,
     "metadata": {},
     "output_type": "execute_result"
    }
   ],
   "source": [
    "mouse_data.head()"
   ]
  },
  {
   "cell_type": "code",
   "execution_count": 112,
   "metadata": {},
   "outputs": [],
   "source": [
    "# grouping mouse data by drug, and then counting the number of mice (Mouse ID) per drug.  Shows as 25 mice per drug.\n",
    "#mouse_data.groupby('Drug').count()"
   ]
  },
  {
   "cell_type": "code",
   "execution_count": 6,
   "metadata": {},
   "outputs": [
    {
     "data": {
      "text/html": [
       "<div>\n",
       "<style>\n",
       "    .dataframe thead tr:only-child th {\n",
       "        text-align: right;\n",
       "    }\n",
       "\n",
       "    .dataframe thead th {\n",
       "        text-align: left;\n",
       "    }\n",
       "\n",
       "    .dataframe tbody tr th {\n",
       "        vertical-align: top;\n",
       "    }\n",
       "</style>\n",
       "<table border=\"1\" class=\"dataframe\">\n",
       "  <thead>\n",
       "    <tr style=\"text-align: right;\">\n",
       "      <th></th>\n",
       "      <th></th>\n",
       "      <th>Number Alive</th>\n",
       "    </tr>\n",
       "    <tr>\n",
       "      <th>Drug</th>\n",
       "      <th>Timepoint</th>\n",
       "      <th></th>\n",
       "    </tr>\n",
       "  </thead>\n",
       "  <tbody>\n",
       "    <tr>\n",
       "      <th rowspan=\"5\" valign=\"top\">Capomulin</th>\n",
       "      <th>0</th>\n",
       "      <td>25</td>\n",
       "    </tr>\n",
       "    <tr>\n",
       "      <th>5</th>\n",
       "      <td>25</td>\n",
       "    </tr>\n",
       "    <tr>\n",
       "      <th>10</th>\n",
       "      <td>25</td>\n",
       "    </tr>\n",
       "    <tr>\n",
       "      <th>15</th>\n",
       "      <td>24</td>\n",
       "    </tr>\n",
       "    <tr>\n",
       "      <th>20</th>\n",
       "      <td>23</td>\n",
       "    </tr>\n",
       "  </tbody>\n",
       "</table>\n",
       "</div>"
      ],
      "text/plain": [
       "                     Number Alive\n",
       "Drug      Timepoint              \n",
       "Capomulin 0                    25\n",
       "          5                    25\n",
       "          10                   25\n",
       "          15                   24\n",
       "          20                   23"
      ]
     },
     "execution_count": 6,
     "metadata": {},
     "output_type": "execute_result"
    }
   ],
   "source": [
    "# Merging clinical and mouse data on 'Mouse ID', creating one merged data frame to modify throughout calling it 'Merged_data'\n",
    "merged_data = pd.merge(clinical_data, mouse_data, on=['Mouse ID'])\n",
    "merged_data = merged_data.set_index(['Drug'])\n",
    "\n",
    "# Grouping merged_data by drug/timepoint, then counting the number of 'mouse id' per timepoint.\n",
    "# Rename 'mouse id' to 'number alive'\n",
    "mouse_death = merged_data.groupby(['Drug', 'Timepoint']).count()\n",
    "mouse_death = mouse_death[['Mouse ID']].rename(columns={'Mouse ID':'Number Alive'})\n",
    "mouse_death.head()\n"
   ]
  },
  {
   "cell_type": "code",
   "execution_count": 114,
   "metadata": {},
   "outputs": [],
   "source": [
    "Capo_death = mouse_death.loc['Capomulin'].reset_index().rename(columns = {'Number Alive': 'Capomulin Death'})\n",
    "Keta_death = mouse_death.loc['Ketapril'].reset_index().rename(columns = {'Number Alive':'Ketapril Death'})\n",
    "Infu_death = mouse_death.loc['Infubinol'].reset_index().rename(columns = {'Number Alive': 'Infubinol Death'})\n",
    "Plac_death = mouse_death.loc['Placebo'].reset_index().rename(columns = {'Number Alive': 'Placebo Death'})\n",
    "\n",
    "merge_death_ck = pd.merge(Capo_death, Keta_death, on='Timepoint')\n",
    "merge_death_ip = pd.merge(Infu_death, Plac_death, on='Timepoint')\n",
    "\n",
    "total_death_merge = pd.merge(merge_death_ck, merge_death_ip, on='Timepoint')"
   ]
  },
  {
   "cell_type": "code",
   "execution_count": 119,
   "metadata": {},
   "outputs": [
    {
     "data": {
      "image/png": "[encoded data removed]",
      "text/plain": [
       "<matplotlib.figure.Figure at 0x2199056f978>"
      ]
     },
     "metadata": {},
     "output_type": "display_data"
    }
   ],
   "source": [
    "fig, ax1 = plt.subplots(1, sharex=True, sharey= True)\n",
    "fig.suptitle(\"Mice Deaths\", fontsize=16,\n",
    "             fontweight=\"bold\")\n",
    "\n",
    "#ax1.set_xlim(min(year), max(year))\n",
    "#ax1.plot(total_merge_CPKI['Timepoint'], new_merged_data.loc['Ketapril','Tumor Volume (mm3)'], linewidth=1, marker=\"o\", markersize=8)\n",
    "ax1.plot(total_death_merge['Timepoint'], total_death_merge['Ketapril Death'], linewidth=1, marker=\"o\", markersize=8)\n",
    "ax1.plot(total_death_merge['Timepoint'], total_death_merge['Infubinol Death'],linewidth=1, marker='^', markersize=8)\n",
    "ax1.plot(total_death_merge['Timepoint'], total_death_merge['Capomulin Death'], linewidth=1, marker=\"v\", markersize=8)\n",
    "ax1.plot(total_death_merge['Timepoint'], total_death_merge['Placebo Death'],linewidth=1, marker='h', markersize=8)\n",
    "ax1.set_ylabel(\"Alive Mice\")\n",
    "ax1.set_xlabel(\"Timepoints\")\n",
    "plt.legend()\n",
    "plt.show()"
   ]
  },
  {
   "cell_type": "code",
   "execution_count": 7,
   "metadata": {
    "collapsed": true
   },
   "outputs": [],
   "source": [
    "control_data = merged_data.loc['Placebo']\n",
    "control_data = control_data.groupby(['Drug','Timepoint']).mean()\n",
    "#control_data"
   ]
  },
  {
   "cell_type": "code",
   "execution_count": 8,
   "metadata": {
    "collapsed": true
   },
   "outputs": [],
   "source": [
    "#len(infubinol_data)\n",
    "#len(infubinol_data.loc['Infubinol', 'a203'])\n",
    "#for index, row in infubinol_data.iterrows();\n",
    "infubinol_data = merged_data.loc['Infubinol'].groupby(['Drug', 'Mouse ID', 'Timepoint']).sum()\n",
    "#infubinol_data.head()"
   ]
  },
  {
   "cell_type": "code",
   "execution_count": 120,
   "metadata": {},
   "outputs": [],
   "source": [
    "new_merged_data = merged_data.groupby(['Drug', 'Timepoint']).mean()\n",
    "new_merged_data['Growth Inhibition'] = 1 - (new_merged_data['Tumor Volume (mm3)']/new_merged_data.loc['Placebo', 'Tumor Volume (mm3)'])\n",
    "new_merged_data['Metastic Inhibition'] = 1 - (new_merged_data['Metastatic Sites']/new_merged_data.loc['Placebo', 'Metastatic Sites'])\n",
    "new_merged_data = new_merged_data.fillna(0)\n",
    "#new_merged_data"
   ]
  },
  {
   "cell_type": "code",
   "execution_count": 121,
   "metadata": {},
   "outputs": [],
   "source": [
    "tumor_data = new_merged_data[['Tumor Volume (mm3)']]\n",
    "#tumor_data.head()"
   ]
  },
  {
   "cell_type": "code",
   "execution_count": 46,
   "metadata": {
    "collapsed": true
   },
   "outputs": [],
   "source": [
    "capo_data = tumor_data.loc['Capomulin']\n",
    "capo_data = capo_data.rename(columns={'Tumor Volume (mm3)': 'Capomulin'})\n",
    "capo_data = capo_data.reset_index()"
   ]
  },
  {
   "cell_type": "code",
   "execution_count": 47,
   "metadata": {
    "collapsed": true
   },
   "outputs": [],
   "source": [
    "placebo_data = tumor_data.loc['Placebo']\n",
    "placebo_data = placebo_data.rename(columns={'Tumor Volume (mm3)': 'Placebo'})\n",
    "placebo_data = placebo_data.reset_index()"
   ]
  },
  {
   "cell_type": "code",
   "execution_count": 48,
   "metadata": {},
   "outputs": [],
   "source": [
    "CP_merge = pd.merge(placebo_data, capo_data, on=\"Timepoint\")\n",
    "#CP_merge.head()"
   ]
  },
  {
   "cell_type": "code",
   "execution_count": 49,
   "metadata": {
    "collapsed": true
   },
   "outputs": [],
   "source": [
    "infubinol_data = tumor_data.loc['Infubinol']\n",
    "infubinol_data = infubinol_data.rename(columns={'Tumor Volume (mm3)': 'Infubinol'})\n",
    "infubinol_data = infubinol_data.reset_index()"
   ]
  },
  {
   "cell_type": "code",
   "execution_count": 50,
   "metadata": {
    "collapsed": true
   },
   "outputs": [],
   "source": [
    "ketapril_data = tumor_data.loc['Ketapril']\n",
    "ketapril_data = ketapril_data.rename(columns={'Tumor Volume (mm3)': 'Ketapril'})\n",
    "ketapril_data = ketapril_data.reset_index()"
   ]
  },
  {
   "cell_type": "code",
   "execution_count": 122,
   "metadata": {},
   "outputs": [],
   "source": [
    "K_I_merge = pd.merge(infubinol_data, ketapril_data, on='Timepoint')\n",
    "#K_I_merge.head()"
   ]
  },
  {
   "cell_type": "code",
   "execution_count": 123,
   "metadata": {},
   "outputs": [
    {
     "data": {
      "text/html": [
       "<div>\n",
       "<style>\n",
       "    .dataframe thead tr:only-child th {\n",
       "        text-align: right;\n",
       "    }\n",
       "\n",
       "    .dataframe thead th {\n",
       "        text-align: left;\n",
       "    }\n",
       "\n",
       "    .dataframe tbody tr th {\n",
       "        vertical-align: top;\n",
       "    }\n",
       "</style>\n",
       "<table border=\"1\" class=\"dataframe\">\n",
       "  <thead>\n",
       "    <tr style=\"text-align: right;\">\n",
       "      <th></th>\n",
       "      <th>Infubinol</th>\n",
       "      <th>Ketapril</th>\n",
       "      <th>Placebo</th>\n",
       "      <th>Capomulin</th>\n",
       "    </tr>\n",
       "    <tr>\n",
       "      <th>Timepoint</th>\n",
       "      <th></th>\n",
       "      <th></th>\n",
       "      <th></th>\n",
       "      <th></th>\n",
       "    </tr>\n",
       "  </thead>\n",
       "  <tbody>\n",
       "    <tr>\n",
       "      <th>0</th>\n",
       "      <td>0.000000</td>\n",
       "      <td>0.000000</td>\n",
       "      <td>0.000000</td>\n",
       "      <td>0.000000</td>\n",
       "    </tr>\n",
       "    <tr>\n",
       "      <th>5</th>\n",
       "      <td>0.280000</td>\n",
       "      <td>0.304348</td>\n",
       "      <td>0.375000</td>\n",
       "      <td>0.160000</td>\n",
       "    </tr>\n",
       "    <tr>\n",
       "      <th>10</th>\n",
       "      <td>0.666667</td>\n",
       "      <td>0.590909</td>\n",
       "      <td>0.833333</td>\n",
       "      <td>0.320000</td>\n",
       "    </tr>\n",
       "    <tr>\n",
       "      <th>15</th>\n",
       "      <td>0.904762</td>\n",
       "      <td>0.842105</td>\n",
       "      <td>1.250000</td>\n",
       "      <td>0.375000</td>\n",
       "    </tr>\n",
       "    <tr>\n",
       "      <th>20</th>\n",
       "      <td>1.050000</td>\n",
       "      <td>1.210526</td>\n",
       "      <td>1.526316</td>\n",
       "      <td>0.652174</td>\n",
       "    </tr>\n",
       "  </tbody>\n",
       "</table>\n",
       "</div>"
      ],
      "text/plain": [
       "           Infubinol  Ketapril   Placebo  Capomulin\n",
       "Timepoint                                          \n",
       "0           0.000000  0.000000  0.000000   0.000000\n",
       "5           0.280000  0.304348  0.375000   0.160000\n",
       "10          0.666667  0.590909  0.833333   0.320000\n",
       "15          0.904762  0.842105  1.250000   0.375000\n",
       "20          1.050000  1.210526  1.526316   0.652174"
      ]
     },
     "execution_count": 123,
     "metadata": {},
     "output_type": "execute_result"
    }
   ],
   "source": [
    "total_merge_CPKI = pd.merge(K_I_merge, CP_merge, on='Timepoint')\n",
    "total_merge_CPKI.set_index(\"Timepoint\").head()"
   ]
  },
  {
   "cell_type": "code",
   "execution_count": 125,
   "metadata": {},
   "outputs": [
    {
     "data": {
      "image/png": "[encoded data removed]",
      "text/plain": [
       "<matplotlib.figure.Figure at 0x2198fff8828>"
      ]
     },
     "metadata": {},
     "output_type": "display_data"
    }
   ],
   "source": [
    "fig, ax1 = plt.subplots(1, sharex=True, sharey= True)\n",
    "fig.suptitle(\"Tumer Volume efficacy\", fontsize=16,\n",
    "             fontweight=\"bold\")\n",
    "\n",
    "#ax1.set_xlim(min(year), max(year))\n",
    "#ax1.plot(total_merge_CPKI['Timepoint'], new_merged_data.loc['Ketapril','Tumor Volume (mm3)'], linewidth=1, marker=\"o\", markersize=8)\n",
    "ax1.plot(total_merge_CPKI['Timepoint'], total_merge_CPKI['Ketapril'], linewidth=1, marker=\"o\", markersize=8)\n",
    "ax1.plot(total_merge_CPKI['Timepoint'], total_merge_CPKI['Infubinol'],linewidth=1, marker='^', markersize=8)\n",
    "ax1.plot(total_merge_CPKI['Timepoint'], total_merge_CPKI['Capomulin'], linewidth=1, marker=\"v\", markersize=8)\n",
    "ax1.plot(total_merge_CPKI['Timepoint'], total_merge_CPKI['Placebo'],linewidth=1, marker='h', markersize=8)\n",
    "ax1.set_ylabel(\"Tumor Growth Rate\")\n",
    "ax1.set_xlabel(\"Timepoints\")\n",
    "plt.legend()\n",
    "plt.show()"
   ]
  },
  {
   "cell_type": "code",
   "execution_count": 77,
   "metadata": {
    "collapsed": true
   },
   "outputs": [],
   "source": [
    "meta_data = new_merged_data[['Metastatic Sites']]"
   ]
  },
  {
   "cell_type": "code",
   "execution_count": 83,
   "metadata": {},
   "outputs": [
    {
     "data": {
      "text/html": [
       "<div>\n",
       "<style>\n",
       "    .dataframe thead tr:only-child th {\n",
       "        text-align: right;\n",
       "    }\n",
       "\n",
       "    .dataframe thead th {\n",
       "        text-align: left;\n",
       "    }\n",
       "\n",
       "    .dataframe tbody tr th {\n",
       "        vertical-align: top;\n",
       "    }\n",
       "</style>\n",
       "<table border=\"1\" class=\"dataframe\">\n",
       "  <thead>\n",
       "    <tr style=\"text-align: right;\">\n",
       "      <th></th>\n",
       "      <th>Timepoint</th>\n",
       "      <th>Placebo</th>\n",
       "      <th>Capomulin</th>\n",
       "    </tr>\n",
       "  </thead>\n",
       "  <tbody>\n",
       "    <tr>\n",
       "      <th>0</th>\n",
       "      <td>0</td>\n",
       "      <td>0.000000</td>\n",
       "      <td>0.000000</td>\n",
       "    </tr>\n",
       "    <tr>\n",
       "      <th>1</th>\n",
       "      <td>5</td>\n",
       "      <td>0.375000</td>\n",
       "      <td>0.160000</td>\n",
       "    </tr>\n",
       "    <tr>\n",
       "      <th>2</th>\n",
       "      <td>10</td>\n",
       "      <td>0.833333</td>\n",
       "      <td>0.320000</td>\n",
       "    </tr>\n",
       "    <tr>\n",
       "      <th>3</th>\n",
       "      <td>15</td>\n",
       "      <td>1.250000</td>\n",
       "      <td>0.375000</td>\n",
       "    </tr>\n",
       "    <tr>\n",
       "      <th>4</th>\n",
       "      <td>20</td>\n",
       "      <td>1.526316</td>\n",
       "      <td>0.652174</td>\n",
       "    </tr>\n",
       "    <tr>\n",
       "      <th>5</th>\n",
       "      <td>25</td>\n",
       "      <td>1.941176</td>\n",
       "      <td>0.818182</td>\n",
       "    </tr>\n",
       "    <tr>\n",
       "      <th>6</th>\n",
       "      <td>30</td>\n",
       "      <td>2.266667</td>\n",
       "      <td>1.090909</td>\n",
       "    </tr>\n",
       "    <tr>\n",
       "      <th>7</th>\n",
       "      <td>35</td>\n",
       "      <td>2.642857</td>\n",
       "      <td>1.181818</td>\n",
       "    </tr>\n",
       "    <tr>\n",
       "      <th>8</th>\n",
       "      <td>40</td>\n",
       "      <td>3.166667</td>\n",
       "      <td>1.380952</td>\n",
       "    </tr>\n",
       "    <tr>\n",
       "      <th>9</th>\n",
       "      <td>45</td>\n",
       "      <td>3.272727</td>\n",
       "      <td>1.476190</td>\n",
       "    </tr>\n",
       "  </tbody>\n",
       "</table>\n",
       "</div>"
      ],
      "text/plain": [
       "   Timepoint   Placebo  Capomulin\n",
       "0          0  0.000000   0.000000\n",
       "1          5  0.375000   0.160000\n",
       "2         10  0.833333   0.320000\n",
       "3         15  1.250000   0.375000\n",
       "4         20  1.526316   0.652174\n",
       "5         25  1.941176   0.818182\n",
       "6         30  2.266667   1.090909\n",
       "7         35  2.642857   1.181818\n",
       "8         40  3.166667   1.380952\n",
       "9         45  3.272727   1.476190"
      ]
     },
     "execution_count": 83,
     "metadata": {},
     "output_type": "execute_result"
    }
   ],
   "source": [
    "capo_meta = meta_data.loc['Capomulin']\n",
    "capo_meta = capo_data.rename(columns={'Metastatic Sites': 'Capomulin'})\n",
    "capo_meta = capo_data.reset_index()\n",
    "placebo_meta = meta_data.loc['Placebo']\n",
    "placebo_meta = placebo_data.rename(columns={'Metastatic Sites': 'Placebo'})\n",
    "placebo_meta = placebo_data.reset_index()\n",
    "CP_meta_merge = pd.merge(placebo_data, capo_data, on=\"Timepoint\")\n",
    "CP_meta_merge = CP_merge.reset_index(drop=True)\n",
    "CP_meta_merge"
   ]
  },
  {
   "cell_type": "code",
   "execution_count": 85,
   "metadata": {},
   "outputs": [
    {
     "data": {
      "text/html": [
       "<div>\n",
       "<style>\n",
       "    .dataframe thead tr:only-child th {\n",
       "        text-align: right;\n",
       "    }\n",
       "\n",
       "    .dataframe thead th {\n",
       "        text-align: left;\n",
       "    }\n",
       "\n",
       "    .dataframe tbody tr th {\n",
       "        vertical-align: top;\n",
       "    }\n",
       "</style>\n",
       "<table border=\"1\" class=\"dataframe\">\n",
       "  <thead>\n",
       "    <tr style=\"text-align: right;\">\n",
       "      <th></th>\n",
       "      <th>Timepoint</th>\n",
       "      <th>Infubinol</th>\n",
       "      <th>Ketapril</th>\n",
       "    </tr>\n",
       "  </thead>\n",
       "  <tbody>\n",
       "    <tr>\n",
       "      <th>0</th>\n",
       "      <td>0</td>\n",
       "      <td>0.000000</td>\n",
       "      <td>0.000000</td>\n",
       "    </tr>\n",
       "    <tr>\n",
       "      <th>1</th>\n",
       "      <td>5</td>\n",
       "      <td>0.280000</td>\n",
       "      <td>0.304348</td>\n",
       "    </tr>\n",
       "    <tr>\n",
       "      <th>2</th>\n",
       "      <td>10</td>\n",
       "      <td>0.666667</td>\n",
       "      <td>0.590909</td>\n",
       "    </tr>\n",
       "    <tr>\n",
       "      <th>3</th>\n",
       "      <td>15</td>\n",
       "      <td>0.904762</td>\n",
       "      <td>0.842105</td>\n",
       "    </tr>\n",
       "    <tr>\n",
       "      <th>4</th>\n",
       "      <td>20</td>\n",
       "      <td>1.050000</td>\n",
       "      <td>1.210526</td>\n",
       "    </tr>\n",
       "    <tr>\n",
       "      <th>5</th>\n",
       "      <td>25</td>\n",
       "      <td>1.277778</td>\n",
       "      <td>1.631579</td>\n",
       "    </tr>\n",
       "    <tr>\n",
       "      <th>6</th>\n",
       "      <td>30</td>\n",
       "      <td>1.588235</td>\n",
       "      <td>2.055556</td>\n",
       "    </tr>\n",
       "    <tr>\n",
       "      <th>7</th>\n",
       "      <td>35</td>\n",
       "      <td>1.666667</td>\n",
       "      <td>2.294118</td>\n",
       "    </tr>\n",
       "    <tr>\n",
       "      <th>8</th>\n",
       "      <td>40</td>\n",
       "      <td>2.100000</td>\n",
       "      <td>2.733333</td>\n",
       "    </tr>\n",
       "    <tr>\n",
       "      <th>9</th>\n",
       "      <td>45</td>\n",
       "      <td>2.111111</td>\n",
       "      <td>3.363636</td>\n",
       "    </tr>\n",
       "  </tbody>\n",
       "</table>\n",
       "</div>"
      ],
      "text/plain": [
       "   Timepoint  Infubinol  Ketapril\n",
       "0          0   0.000000  0.000000\n",
       "1          5   0.280000  0.304348\n",
       "2         10   0.666667  0.590909\n",
       "3         15   0.904762  0.842105\n",
       "4         20   1.050000  1.210526\n",
       "5         25   1.277778  1.631579\n",
       "6         30   1.588235  2.055556\n",
       "7         35   1.666667  2.294118\n",
       "8         40   2.100000  2.733333\n",
       "9         45   2.111111  3.363636"
      ]
     },
     "execution_count": 85,
     "metadata": {},
     "output_type": "execute_result"
    }
   ],
   "source": [
    "infubinol_meta = meta_data.loc['Infubinol']\n",
    "infubinol_meta = infubinol_data.rename(columns={'Metastatic Sites': 'Infubinol'})\n",
    "infubinol_meta = infubinol_data.reset_index()\n",
    "ketapril_meta = meta_data.loc['Ketapril']\n",
    "ketapril_meta = ketapril_data.rename(columns={'Metastatic Sites': 'Ketapril'})\n",
    "ketapril_meta = ketapril_data.reset_index()\n",
    "KI_meta_merge = pd.merge(infubinol_data, ketapril_data, on='Timepoint')\n",
    "KI_meta_merge = K_I_merge.reset_index(drop=True)\n",
    "KI_meta_merge"
   ]
  },
  {
   "cell_type": "code",
   "execution_count": 88,
   "metadata": {},
   "outputs": [
    {
     "data": {
      "text/html": [
       "<div>\n",
       "<style>\n",
       "    .dataframe thead tr:only-child th {\n",
       "        text-align: right;\n",
       "    }\n",
       "\n",
       "    .dataframe thead th {\n",
       "        text-align: left;\n",
       "    }\n",
       "\n",
       "    .dataframe tbody tr th {\n",
       "        vertical-align: top;\n",
       "    }\n",
       "</style>\n",
       "<table border=\"1\" class=\"dataframe\">\n",
       "  <thead>\n",
       "    <tr style=\"text-align: right;\">\n",
       "      <th></th>\n",
       "      <th>Timepoint</th>\n",
       "      <th>Infubinol</th>\n",
       "      <th>Ketapril</th>\n",
       "      <th>Placebo</th>\n",
       "      <th>Capomulin</th>\n",
       "    </tr>\n",
       "  </thead>\n",
       "  <tbody>\n",
       "    <tr>\n",
       "      <th>0</th>\n",
       "      <td>0</td>\n",
       "      <td>0.000000</td>\n",
       "      <td>0.000000</td>\n",
       "      <td>0.000000</td>\n",
       "      <td>0.000000</td>\n",
       "    </tr>\n",
       "    <tr>\n",
       "      <th>1</th>\n",
       "      <td>5</td>\n",
       "      <td>0.280000</td>\n",
       "      <td>0.304348</td>\n",
       "      <td>0.375000</td>\n",
       "      <td>0.160000</td>\n",
       "    </tr>\n",
       "    <tr>\n",
       "      <th>2</th>\n",
       "      <td>10</td>\n",
       "      <td>0.666667</td>\n",
       "      <td>0.590909</td>\n",
       "      <td>0.833333</td>\n",
       "      <td>0.320000</td>\n",
       "    </tr>\n",
       "    <tr>\n",
       "      <th>3</th>\n",
       "      <td>15</td>\n",
       "      <td>0.904762</td>\n",
       "      <td>0.842105</td>\n",
       "      <td>1.250000</td>\n",
       "      <td>0.375000</td>\n",
       "    </tr>\n",
       "    <tr>\n",
       "      <th>4</th>\n",
       "      <td>20</td>\n",
       "      <td>1.050000</td>\n",
       "      <td>1.210526</td>\n",
       "      <td>1.526316</td>\n",
       "      <td>0.652174</td>\n",
       "    </tr>\n",
       "    <tr>\n",
       "      <th>5</th>\n",
       "      <td>25</td>\n",
       "      <td>1.277778</td>\n",
       "      <td>1.631579</td>\n",
       "      <td>1.941176</td>\n",
       "      <td>0.818182</td>\n",
       "    </tr>\n",
       "    <tr>\n",
       "      <th>6</th>\n",
       "      <td>30</td>\n",
       "      <td>1.588235</td>\n",
       "      <td>2.055556</td>\n",
       "      <td>2.266667</td>\n",
       "      <td>1.090909</td>\n",
       "    </tr>\n",
       "    <tr>\n",
       "      <th>7</th>\n",
       "      <td>35</td>\n",
       "      <td>1.666667</td>\n",
       "      <td>2.294118</td>\n",
       "      <td>2.642857</td>\n",
       "      <td>1.181818</td>\n",
       "    </tr>\n",
       "    <tr>\n",
       "      <th>8</th>\n",
       "      <td>40</td>\n",
       "      <td>2.100000</td>\n",
       "      <td>2.733333</td>\n",
       "      <td>3.166667</td>\n",
       "      <td>1.380952</td>\n",
       "    </tr>\n",
       "    <tr>\n",
       "      <th>9</th>\n",
       "      <td>45</td>\n",
       "      <td>2.111111</td>\n",
       "      <td>3.363636</td>\n",
       "      <td>3.272727</td>\n",
       "      <td>1.476190</td>\n",
       "    </tr>\n",
       "  </tbody>\n",
       "</table>\n",
       "</div>"
      ],
      "text/plain": [
       "   Timepoint  Infubinol  Ketapril   Placebo  Capomulin\n",
       "0          0   0.000000  0.000000  0.000000   0.000000\n",
       "1          5   0.280000  0.304348  0.375000   0.160000\n",
       "2         10   0.666667  0.590909  0.833333   0.320000\n",
       "3         15   0.904762  0.842105  1.250000   0.375000\n",
       "4         20   1.050000  1.210526  1.526316   0.652174\n",
       "5         25   1.277778  1.631579  1.941176   0.818182\n",
       "6         30   1.588235  2.055556  2.266667   1.090909\n",
       "7         35   1.666667  2.294118  2.642857   1.181818\n",
       "8         40   2.100000  2.733333  3.166667   1.380952\n",
       "9         45   2.111111  3.363636  3.272727   1.476190"
      ]
     },
     "execution_count": 88,
     "metadata": {},
     "output_type": "execute_result"
    }
   ],
   "source": [
    "total_meta_merge = pd.merge(K_I_merge, CP_merge, on='Timepoint')\n",
    "total_meta_merge"
   ]
  },
  {
   "cell_type": "code",
   "execution_count": 126,
   "metadata": {},
   "outputs": [
    {
     "data": {
      "image/png": "[encoded data removed]",
      "text/plain": [
       "<matplotlib.figure.Figure at 0x2198fbda400>"
      ]
     },
     "metadata": {},
     "output_type": "display_data"
    }
   ],
   "source": [
    "fig, ax1 = plt.subplots(1, sharex=True, sharey= True)\n",
    "fig.suptitle(\"Metastatic efficacy\", fontsize=16,\n",
    "             fontweight=\"bold\")\n",
    "\n",
    "#ax1.set_xlim(min(year), max(year))\n",
    "ax1.plot(total_meta_merge['Timepoint'], total_meta_merge['Ketapril'], linewidth=1, marker=\"o\", markersize=8)\n",
    "ax1.plot(total_meta_merge['Timepoint'], total_meta_merge['Infubinol'],linewidth=1, marker='^', markersize=8)\n",
    "ax1.plot(total_meta_merge['Timepoint'], total_meta_merge['Capomulin'], linewidth=1, marker=\"v\", markersize=8)\n",
    "ax1.plot(total_meta_merge['Timepoint'], total_meta_merge['Placebo'],linewidth=1, marker='h', markersize=8)\n",
    "ax1.set_ylabel(\"Metastic Sites\")\n",
    "ax1.set_xlabel(\"Timepoints\")\n",
    "plt.legend()\n",
    "plt.show()"
   ]
  },
  {
   "cell_type": "code",
   "execution_count": null,
   "metadata": {
    "collapsed": true
   },
   "outputs": [],
   "source": []
  }
 ],
 "metadata": {
  "kernelspec": {
   "display_name": "Python [conda env:PythonData]",
   "language": "python",
   "name": "conda-env-PythonData-py"
  },
  "language_info": {
   "codemirror_mode": {
    "name": "ipython",
    "version": 3
   },
   "file_extension": ".py",
   "mimetype": "text/x-python",
   "name": "python",
   "nbconvert_exporter": "python",
   "pygments_lexer": "ipython3",
   "version": "3.6.1"
  }
 },
 "nbformat": 4,
 "nbformat_minor": 2
}
